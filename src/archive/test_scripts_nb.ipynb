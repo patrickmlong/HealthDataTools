{
 "cells": [
  {
   "cell_type": "code",
   "execution_count": 95,
   "metadata": {},
   "outputs": [
    {
     "ename": "FileNotFoundError",
     "evalue": "[Errno 2] No such file or directory: '../../data/raw_data/gems/'",
     "output_type": "error",
     "traceback": [
      "\u001b[0;31m---------------------------------------------------------------------------\u001b[0m",
      "\u001b[0;31mFileNotFoundError\u001b[0m                         Traceback (most recent call last)",
      "\u001b[0;32m<ipython-input-95-25ddd9b4dbbf>\u001b[0m in \u001b[0;36m<module>\u001b[0;34m\u001b[0m\n\u001b[1;32m      2\u001b[0m \u001b[0;32mimport\u001b[0m \u001b[0mos\u001b[0m\u001b[0;34m\u001b[0m\u001b[0;34m\u001b[0m\u001b[0m\n\u001b[1;32m      3\u001b[0m \u001b[0;34m\u001b[0m\u001b[0m\n\u001b[0;32m----> 4\u001b[0;31m \u001b[0mos\u001b[0m\u001b[0;34m.\u001b[0m\u001b[0mchdir\u001b[0m\u001b[0;34m(\u001b[0m\u001b[0;34m\"../../data/raw_data/gems/\"\u001b[0m\u001b[0;34m)\u001b[0m\u001b[0;34m\u001b[0m\u001b[0;34m\u001b[0m\u001b[0m\n\u001b[0m",
      "\u001b[0;31mFileNotFoundError\u001b[0m: [Errno 2] No such file or directory: '../../data/raw_data/gems/'"
     ]
    }
   ],
   "source": [
    "import pandas as pd\n",
    "import os\n",
    "\n",
    "os.chdir(\"../../data/raw_data/gems/\")"
   ]
  },
  {
   "cell_type": "code",
   "execution_count": 96,
   "metadata": {},
   "outputs": [
    {
     "name": "stdout",
     "output_type": "stream",
     "text": [
      "2018_I10gem.csv                 fun.py\r\n",
      "2018_I10gem.txt                 icd10OrderFiles.pdf\r\n",
      "2018_I9gem.csv                  icd10_descriptions.zip\r\n",
      "2018_I9gem.txt                  icd10_gems.zip\r\n",
      "CMS32_DESC_LONG_DX.csv          icd10_gems_lookup.csv\r\n",
      "CMS32_DESC_LONG_DX.txt          icd10cmCodesFile.pdf\r\n",
      "CMS32_DESC_LONG_SG.txt          icd10cm_codes_2018.csv\r\n",
      "CMS32_DESC_LONG_SHORT_DX.xlsx   icd10cm_codes_2018.txt\r\n",
      "CMS32_DESC_LONG_SHORT_SG.xlsx   icd10cm_codes_addenda_2018.txt\r\n",
      "CMS32_DESC_SHORT_DX.txt         icd10cm_order_2018.txt\r\n",
      "CMS32_DESC_SHORT_SG.txt         icd10cm_order_addenda_2018.txt\r\n",
      "Dxgem_guide_2018.pdf            icd9_descriptions.zip\r\n",
      "GemsTechDoc_2018.pdf            icd9_gems_lookup.csv\r\n",
      "\u001b[34m__pycache__\u001b[m\u001b[m/                    sql_test.csv\r\n"
     ]
    }
   ],
   "source": [
    "ls"
   ]
  },
  {
   "cell_type": "code",
   "execution_count": 7,
   "metadata": {},
   "outputs": [],
   "source": [
    "filename = \"2018_I10gem.txt\""
   ]
  },
  {
   "cell_type": "code",
   "execution_count": 8,
   "metadata": {},
   "outputs": [],
   "source": [
    "filename = f\"{filename.split('.')[0]}.csv\""
   ]
  },
  {
   "cell_type": "code",
   "execution_count": 9,
   "metadata": {},
   "outputs": [
    {
     "data": {
      "text/plain": [
       "'2018_I10gem.csv'"
      ]
     },
     "execution_count": 9,
     "metadata": {},
     "output_type": "execute_result"
    }
   ],
   "source": [
    "filename"
   ]
  },
  {
   "cell_type": "code",
   "execution_count": 84,
   "metadata": {},
   "outputs": [],
   "source": [
    "def format_icd(filename: str):\n",
    "    \n",
    "    df = pd.read_csv(\"2018_I10gem.txt\", \n",
    "                     sep=\"[\\s]{1,}\",\n",
    "                     names=[\"source\", \"target\", \"flags\"],\n",
    "                     encoding=\"latin-1\")\n",
    "    \n",
    "    save_name = update_file_name(filename)\n",
    "    df.to_csv(save_name)\n",
    "    \n",
    "    \n",
    "def update_file_name(filename: str):\n",
    "    \n",
    "    return f\"{filename.split('.')[0]}.csv\"\n",
    "    \n",
    "    \n",
    "\n",
    "def format_desc(filename: str, codetype: str, separater: str = \",\"):\n",
    "    \n",
    "    df = pd.read_csv(filename,names=[codetype], sep = separater, encoding=\"latin-1\")\n",
    "    \n",
    "    df[[codetype, f\"{codetype}_desc\"]] = df[codetype].str.split(\" \", 1, expand=True)\n",
    "    \n",
    "    save_name = update_file_name(filename)\n",
    "    df.to_csv(save_name)\n"
   ]
  },
  {
   "cell_type": "code",
   "execution_count": 85,
   "metadata": {},
   "outputs": [
    {
     "name": "stderr",
     "output_type": "stream",
     "text": [
      "/Users/patricklong/anaconda3/lib/python3.7/site-packages/ipykernel_launcher.py:6: ParserWarning: Falling back to the 'python' engine because the 'c' engine does not support regex separators (separators > 1 char and different from '\\s+' are interpreted as regex); you can avoid this warning by specifying engine='python'.\n",
      "  \n",
      "/Users/patricklong/anaconda3/lib/python3.7/site-packages/ipykernel_launcher.py:20: ParserWarning: Falling back to the 'python' engine because the 'c' engine does not support regex separators (separators > 1 char and different from '\\s+' are interpreted as regex); you can avoid this warning by specifying engine='python'.\n"
     ]
    }
   ],
   "source": [
    "format_icd(\"2018_I10gem.txt\")\n",
    "format_icd(\"2018_I9gem.txt\")\n",
    "\n",
    "format_desc(\"CMS32_DESC_LONG_DX.txt\", \"icd9\", separater = \",\")\n",
    "format_desc(\"icd10cm_codes_2018.txt\", \"icd10\", separater = \"//s\")"
   ]
  },
  {
   "cell_type": "code",
   "execution_count": 111,
   "metadata": {},
   "outputs": [],
   "source": [
    "nine = pd.read_csv(\"icd9_gems_lookup.csv\")"
   ]
  },
  {
   "cell_type": "code",
   "execution_count": 112,
   "metadata": {},
   "outputs": [
    {
     "data": {
      "text/html": [
       "<div>\n",
       "<style scoped>\n",
       "    .dataframe tbody tr th:only-of-type {\n",
       "        vertical-align: middle;\n",
       "    }\n",
       "\n",
       "    .dataframe tbody tr th {\n",
       "        vertical-align: top;\n",
       "    }\n",
       "\n",
       "    .dataframe thead th {\n",
       "        text-align: right;\n",
       "    }\n",
       "</style>\n",
       "<table border=\"1\" class=\"dataframe\">\n",
       "  <thead>\n",
       "    <tr style=\"text-align: right;\">\n",
       "      <th></th>\n",
       "      <th>Unnamed: 0_x</th>\n",
       "      <th>source</th>\n",
       "      <th>target</th>\n",
       "      <th>flags</th>\n",
       "      <th>Unnamed: 0_y</th>\n",
       "      <th>icd10</th>\n",
       "      <th>icd10_desc</th>\n",
       "    </tr>\n",
       "  </thead>\n",
       "  <tbody>\n",
       "    <tr>\n",
       "      <th>0</th>\n",
       "      <td>65432</td>\n",
       "      <td>T423X1A</td>\n",
       "      <td>E851</td>\n",
       "      <td>10112</td>\n",
       "      <td>3796</td>\n",
       "      <td>E851</td>\n",
       "      <td>Neuropathic heredofamilial amyloidosis</td>\n",
       "    </tr>\n",
       "    <tr>\n",
       "      <th>1</th>\n",
       "      <td>66492</td>\n",
       "      <td>T451X1A</td>\n",
       "      <td>E8581</td>\n",
       "      <td>10112</td>\n",
       "      <td>3800</td>\n",
       "      <td>E8581</td>\n",
       "      <td>Light chain (AL) amyloidosis</td>\n",
       "    </tr>\n",
       "    <tr>\n",
       "      <th>2</th>\n",
       "      <td>66805</td>\n",
       "      <td>T458X1A</td>\n",
       "      <td>E8581</td>\n",
       "      <td>10112</td>\n",
       "      <td>3800</td>\n",
       "      <td>E8581</td>\n",
       "      <td>Light chain (AL) amyloidosis</td>\n",
       "    </tr>\n",
       "    <tr>\n",
       "      <th>3</th>\n",
       "      <td>66849</td>\n",
       "      <td>T4591XA</td>\n",
       "      <td>E8581</td>\n",
       "      <td>10112</td>\n",
       "      <td>3800</td>\n",
       "      <td>E8581</td>\n",
       "      <td>Light chain (AL) amyloidosis</td>\n",
       "    </tr>\n",
       "    <tr>\n",
       "      <th>4</th>\n",
       "      <td>68367</td>\n",
       "      <td>T50A11A</td>\n",
       "      <td>E8581</td>\n",
       "      <td>10112</td>\n",
       "      <td>3800</td>\n",
       "      <td>E8581</td>\n",
       "      <td>Light chain (AL) amyloidosis</td>\n",
       "    </tr>\n",
       "  </tbody>\n",
       "</table>\n",
       "</div>"
      ],
      "text/plain": [
       "   Unnamed: 0_x   source target  flags  Unnamed: 0_y  icd10  \\\n",
       "0         65432  T423X1A   E851  10112          3796   E851   \n",
       "1         66492  T451X1A  E8581  10112          3800  E8581   \n",
       "2         66805  T458X1A  E8581  10112          3800  E8581   \n",
       "3         66849  T4591XA  E8581  10112          3800  E8581   \n",
       "4         68367  T50A11A  E8581  10112          3800  E8581   \n",
       "\n",
       "                                  icd10_desc  \n",
       "0     Neuropathic heredofamilial amyloidosis  \n",
       "1               Light chain (AL) amyloidosis  \n",
       "2               Light chain (AL) amyloidosis  \n",
       "3               Light chain (AL) amyloidosis  \n",
       "4               Light chain (AL) amyloidosis  "
      ]
     },
     "execution_count": 112,
     "metadata": {},
     "output_type": "execute_result"
    }
   ],
   "source": [
    "nine.head()"
   ]
  },
  {
   "cell_type": "code",
   "execution_count": 106,
   "metadata": {},
   "outputs": [],
   "source": [
    "ten = pd.read_csv(\"icd10_gems_lookup.csv\")"
   ]
  },
  {
   "cell_type": "code",
   "execution_count": 107,
   "metadata": {},
   "outputs": [
    {
     "data": {
      "text/html": [
       "<div>\n",
       "<style scoped>\n",
       "    .dataframe tbody tr th:only-of-type {\n",
       "        vertical-align: middle;\n",
       "    }\n",
       "\n",
       "    .dataframe tbody tr th {\n",
       "        vertical-align: top;\n",
       "    }\n",
       "\n",
       "    .dataframe thead th {\n",
       "        text-align: right;\n",
       "    }\n",
       "</style>\n",
       "<table border=\"1\" class=\"dataframe\">\n",
       "  <thead>\n",
       "    <tr style=\"text-align: right;\">\n",
       "      <th></th>\n",
       "      <th>Unnamed: 0_x</th>\n",
       "      <th>source</th>\n",
       "      <th>target</th>\n",
       "      <th>flags</th>\n",
       "      <th>Unnamed: 0_y</th>\n",
       "      <th>icd9</th>\n",
       "      <th>icd9_desc</th>\n",
       "    </tr>\n",
       "  </thead>\n",
       "  <tbody>\n",
       "    <tr>\n",
       "      <th>0</th>\n",
       "      <td>0</td>\n",
       "      <td>A000</td>\n",
       "      <td>0010</td>\n",
       "      <td>0</td>\n",
       "      <td>0</td>\n",
       "      <td>0010</td>\n",
       "      <td>Cholera due to vibrio cholerae</td>\n",
       "    </tr>\n",
       "    <tr>\n",
       "      <th>1</th>\n",
       "      <td>1</td>\n",
       "      <td>A001</td>\n",
       "      <td>0011</td>\n",
       "      <td>0</td>\n",
       "      <td>1</td>\n",
       "      <td>0011</td>\n",
       "      <td>Cholera due to vibrio cholerae el tor</td>\n",
       "    </tr>\n",
       "    <tr>\n",
       "      <th>2</th>\n",
       "      <td>2</td>\n",
       "      <td>A009</td>\n",
       "      <td>0019</td>\n",
       "      <td>0</td>\n",
       "      <td>2</td>\n",
       "      <td>0019</td>\n",
       "      <td>Cholera</td>\n",
       "    </tr>\n",
       "    <tr>\n",
       "      <th>3</th>\n",
       "      <td>3</td>\n",
       "      <td>A0100</td>\n",
       "      <td>0020</td>\n",
       "      <td>10000</td>\n",
       "      <td>3</td>\n",
       "      <td>0020</td>\n",
       "      <td>Typhoid fever</td>\n",
       "    </tr>\n",
       "    <tr>\n",
       "      <th>4</th>\n",
       "      <td>4</td>\n",
       "      <td>A0101</td>\n",
       "      <td>0020</td>\n",
       "      <td>10000</td>\n",
       "      <td>3</td>\n",
       "      <td>0020</td>\n",
       "      <td>Typhoid fever</td>\n",
       "    </tr>\n",
       "  </tbody>\n",
       "</table>\n",
       "</div>"
      ],
      "text/plain": [
       "   Unnamed: 0_x source target  flags  Unnamed: 0_y  icd9  \\\n",
       "0             0   A000   0010      0             0  0010   \n",
       "1             1   A001   0011      0             1  0011   \n",
       "2             2   A009   0019      0             2  0019   \n",
       "3             3  A0100   0020  10000             3  0020   \n",
       "4             4  A0101   0020  10000             3  0020   \n",
       "\n",
       "                                icd9_desc  \n",
       "0          Cholera due to vibrio cholerae  \n",
       "1   Cholera due to vibrio cholerae el tor  \n",
       "2                                 Cholera  \n",
       "3                           Typhoid fever  \n",
       "4                           Typhoid fever  "
      ]
     },
     "execution_count": 107,
     "metadata": {},
     "output_type": "execute_result"
    }
   ],
   "source": [
    "ten.head()"
   ]
  },
  {
   "cell_type": "code",
   "execution_count": 101,
   "metadata": {},
   "outputs": [
    {
     "data": {
      "text/plain": [
       "['a', 'A']"
      ]
     },
     "execution_count": 101,
     "metadata": {},
     "output_type": "execute_result"
    }
   ],
   "source": [
    "[\"a\"] + [\"A\"]"
   ]
  },
  {
   "cell_type": "code",
   "execution_count": 75,
   "metadata": {},
   "outputs": [
    {
     "data": {
      "text/plain": [
       "F458       12\n",
       "A1801      11\n",
       "T426X1A    10\n",
       "Z1389      10\n",
       "T426X2A    10\n",
       "Name: source, dtype: int64"
      ]
     },
     "execution_count": 75,
     "metadata": {},
     "output_type": "execute_result"
    }
   ],
   "source": [
    "ten.source.value_counts().head()"
   ]
  },
  {
   "cell_type": "code",
   "execution_count": 79,
   "metadata": {},
   "outputs": [],
   "source": [
    "pd.set_option('display.max_colwidth', 255)\n",
    "\n",
    "\n",
    "def icd9_to_icd10(icd_code: str):\n",
    "\n",
    "    lookup_table = pd.read_csv(\"icd9_gems_lookup.csv\")\n",
    "\n",
    "    return lookup_table[lookup_table[\"source\"] == icd_code].loc[:,[\"icd10\", \"icd10_desc\"]]\n",
    "\n",
    "\n",
    "def icd10_to_icd9(icd_code: str):\n",
    "    \n",
    "    lookup_table = pd.read_csv(\"icd10_gems_lookup.csv\")\n",
    "    \n",
    "    return lookup_table[lookup_table[\"source\"] == icd_code].loc[:,[\"icd9\", \"icd9_desc\"]]\n",
    "    \n"
   ]
  },
  {
   "cell_type": "code",
   "execution_count": 108,
   "metadata": {},
   "outputs": [],
   "source": [
    "a = icd9_to_icd10('0020')"
   ]
  },
  {
   "cell_type": "code",
   "execution_count": 109,
   "metadata": {},
   "outputs": [
    {
     "data": {
      "text/html": [
       "<div>\n",
       "<style scoped>\n",
       "    .dataframe tbody tr th:only-of-type {\n",
       "        vertical-align: middle;\n",
       "    }\n",
       "\n",
       "    .dataframe tbody tr th {\n",
       "        vertical-align: top;\n",
       "    }\n",
       "\n",
       "    .dataframe thead th {\n",
       "        text-align: right;\n",
       "    }\n",
       "</style>\n",
       "<table border=\"1\" class=\"dataframe\">\n",
       "  <thead>\n",
       "    <tr style=\"text-align: right;\">\n",
       "      <th></th>\n",
       "      <th>icd10</th>\n",
       "      <th>icd10_desc</th>\n",
       "    </tr>\n",
       "  </thead>\n",
       "  <tbody>\n",
       "  </tbody>\n",
       "</table>\n",
       "</div>"
      ],
      "text/plain": [
       "Empty DataFrame\n",
       "Columns: [icd10, icd10_desc]\n",
       "Index: []"
      ]
     },
     "execution_count": 109,
     "metadata": {},
     "output_type": "execute_result"
    }
   ],
   "source": [
    "a"
   ]
  },
  {
   "cell_type": "code",
   "execution_count": 110,
   "metadata": {},
   "outputs": [],
   "source": [
    "a = icd10_to_icd9('F458')"
   ]
  },
  {
   "cell_type": "code",
   "execution_count": 83,
   "metadata": {},
   "outputs": [
    {
     "data": {
      "text/html": [
       "<div>\n",
       "<style scoped>\n",
       "    .dataframe tbody tr th:only-of-type {\n",
       "        vertical-align: middle;\n",
       "    }\n",
       "\n",
       "    .dataframe tbody tr th {\n",
       "        vertical-align: top;\n",
       "    }\n",
       "\n",
       "    .dataframe thead th {\n",
       "        text-align: right;\n",
       "    }\n",
       "</style>\n",
       "<table border=\"1\" class=\"dataframe\">\n",
       "  <thead>\n",
       "    <tr style=\"text-align: right;\">\n",
       "      <th></th>\n",
       "      <th>icd9</th>\n",
       "      <th>icd9_desc</th>\n",
       "    </tr>\n",
       "  </thead>\n",
       "  <tbody>\n",
       "    <tr>\n",
       "      <th>6094</th>\n",
       "      <td>3063</td>\n",
       "      <td>Skin disorder arising from mental factors</td>\n",
       "    </tr>\n",
       "    <tr>\n",
       "      <th>6134</th>\n",
       "      <td>30089</td>\n",
       "      <td>Other somatoform disorders</td>\n",
       "    </tr>\n",
       "    <tr>\n",
       "      <th>6136</th>\n",
       "      <td>3060</td>\n",
       "      <td>Musculoskeletal malfunction arising from mental factors</td>\n",
       "    </tr>\n",
       "    <tr>\n",
       "      <th>6137</th>\n",
       "      <td>3061</td>\n",
       "      <td>Respiratory malfunction arising from mental factors</td>\n",
       "    </tr>\n",
       "    <tr>\n",
       "      <th>6138</th>\n",
       "      <td>3062</td>\n",
       "      <td>Cardiovascular malfunction arising from mental factors</td>\n",
       "    </tr>\n",
       "    <tr>\n",
       "      <th>6139</th>\n",
       "      <td>3064</td>\n",
       "      <td>Gastrointestinal malfunction arising from mental factors</td>\n",
       "    </tr>\n",
       "    <tr>\n",
       "      <th>6140</th>\n",
       "      <td>30650</td>\n",
       "      <td>Psychogenic genitourinary malfunction</td>\n",
       "    </tr>\n",
       "    <tr>\n",
       "      <th>6141</th>\n",
       "      <td>30652</td>\n",
       "      <td>Psychogenic dysmenorrhea</td>\n",
       "    </tr>\n",
       "    <tr>\n",
       "      <th>6142</th>\n",
       "      <td>30653</td>\n",
       "      <td>Psychogenic dysuria</td>\n",
       "    </tr>\n",
       "    <tr>\n",
       "      <th>6143</th>\n",
       "      <td>30659</td>\n",
       "      <td>Other genitourinary malfunction arising from mental factors</td>\n",
       "    </tr>\n",
       "    <tr>\n",
       "      <th>6144</th>\n",
       "      <td>3067</td>\n",
       "      <td>Disorder of organs of special sense arising from mental factors</td>\n",
       "    </tr>\n",
       "    <tr>\n",
       "      <th>6145</th>\n",
       "      <td>3068</td>\n",
       "      <td>Other specified psychophysiological malfunction</td>\n",
       "    </tr>\n",
       "  </tbody>\n",
       "</table>\n",
       "</div>"
      ],
      "text/plain": [
       "       icd9                                                         icd9_desc\n",
       "6094   3063                         Skin disorder arising from mental factors\n",
       "6134  30089                                        Other somatoform disorders\n",
       "6136   3060           Musculoskeletal malfunction arising from mental factors\n",
       "6137   3061               Respiratory malfunction arising from mental factors\n",
       "6138   3062            Cardiovascular malfunction arising from mental factors\n",
       "6139   3064          Gastrointestinal malfunction arising from mental factors\n",
       "6140  30650                             Psychogenic genitourinary malfunction\n",
       "6141  30652                                          Psychogenic dysmenorrhea\n",
       "6142  30653                                               Psychogenic dysuria\n",
       "6143  30659       Other genitourinary malfunction arising from mental factors\n",
       "6144   3067   Disorder of organs of special sense arising from mental factors\n",
       "6145   3068                   Other specified psychophysiological malfunction"
      ]
     },
     "execution_count": 83,
     "metadata": {},
     "output_type": "execute_result"
    }
   ],
   "source": [
    "a"
   ]
  },
  {
   "cell_type": "code",
   "execution_count": null,
   "metadata": {},
   "outputs": [],
   "source": []
  },
  {
   "cell_type": "code",
   "execution_count": null,
   "metadata": {},
   "outputs": [],
   "source": []
  }
 ],
 "metadata": {
  "kernelspec": {
   "display_name": "Python 3",
   "language": "python",
   "name": "python3"
  },
  "language_info": {
   "codemirror_mode": {
    "name": "ipython",
    "version": 3
   },
   "file_extension": ".py",
   "mimetype": "text/x-python",
   "name": "python",
   "nbconvert_exporter": "python",
   "pygments_lexer": "ipython3",
   "version": "3.7.3"
  }
 },
 "nbformat": 4,
 "nbformat_minor": 2
}

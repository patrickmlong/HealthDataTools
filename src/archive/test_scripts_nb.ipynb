{
 "cells": [
  {
   "cell_type": "code",
   "execution_count": 95,
   "metadata": {},
   "outputs": [
    {
     "ename": "FileNotFoundError",
     "evalue": "[Errno 2] No such file or directory: '../../data/raw_data/gems/'",
     "output_type": "error",
     "traceback": [
      "\u001b[0;31m---------------------------------------------------------------------------\u001b[0m",
      "\u001b[0;31mFileNotFoundError\u001b[0m                         Traceback (most recent call last)",
      "\u001b[0;32m<ipython-input-95-25ddd9b4dbbf>\u001b[0m in \u001b[0;36m<module>\u001b[0;34m\u001b[0m\n\u001b[1;32m      2\u001b[0m \u001b[0;32mimport\u001b[0m \u001b[0mos\u001b[0m\u001b[0;34m\u001b[0m\u001b[0;34m\u001b[0m\u001b[0m\n\u001b[1;32m      3\u001b[0m \u001b[0;34m\u001b[0m\u001b[0m\n\u001b[0;32m----> 4\u001b[0;31m \u001b[0mos\u001b[0m\u001b[0;34m.\u001b[0m\u001b[0mchdir\u001b[0m\u001b[0;34m(\u001b[0m\u001b[0;34m\"../../data/raw_data/gems/\"\u001b[0m\u001b[0;34m)\u001b[0m\u001b[0;34m\u001b[0m\u001b[0;34m\u001b[0m\u001b[0m\n\u001b[0m",
      "\u001b[0;31mFileNotFoundError\u001b[0m: [Errno 2] No such file or directory: '../../data/raw_data/gems/'"
     ]
    }
   ],
   "source": [
    "import pandas as pd\n",
    "import os\n",
    "\n",
    "os.chdir(\"../../data/raw_data/gems/\")"
   ]
  },
  {
   "cell_type": "code",
   "execution_count": 96,
   "metadata": {},
   "outputs": [
    {
     "name": "stdout",
     "output_type": "stream",
     "text": [
      "2018_I10gem.csv                 fun.py\r\n",
      "2018_I10gem.txt                 icd10OrderFiles.pdf\r\n",
      "2018_I9gem.csv                  icd10_descriptions.zip\r\n",
      "2018_I9gem.txt                  icd10_gems.zip\r\n",
      "CMS32_DESC_LONG_DX.csv          icd10_gems_lookup.csv\r\n",
      "CMS32_DESC_LONG_DX.txt          icd10cmCodesFile.pdf\r\n",
      "CMS32_DESC_LONG_SG.txt          icd10cm_codes_2018.csv\r\n",
      "CMS32_DESC_LONG_SHORT_DX.xlsx   icd10cm_codes_2018.txt\r\n",
      "CMS32_DESC_LONG_SHORT_SG.xlsx   icd10cm_codes_addenda_2018.txt\r\n",
      "CMS32_DESC_SHORT_DX.txt         icd10cm_order_2018.txt\r\n",
      "CMS32_DESC_SHORT_SG.txt         icd10cm_order_addenda_2018.txt\r\n",
      "Dxgem_guide_2018.pdf            icd9_descriptions.zip\r\n",
      "GemsTechDoc_2018.pdf            icd9_gems_lookup.csv\r\n",
      "\u001b[34m__pycache__\u001b[m\u001b[m/                    sql_test.csv\r\n"
     ]
    }
   ],
   "source": [
    "ls"
   ]
  },
  {
   "cell_type": "code",
   "execution_count": 204,
   "metadata": {},
   "outputs": [],
   "source": [
    "filename = \"2018_I10gem.txt\""
   ]
  },
  {
   "cell_type": "code",
   "execution_count": 205,
   "metadata": {},
   "outputs": [],
   "source": [
    "filename = f\"{filename.split('.')[0]}.csv\""
   ]
  },
  {
   "cell_type": "code",
   "execution_count": 206,
   "metadata": {},
   "outputs": [
    {
     "data": {
      "text/plain": [
       "'2018_I10gem.csv'"
      ]
     },
     "execution_count": 206,
     "metadata": {},
     "output_type": "execute_result"
    }
   ],
   "source": [
    "filename"
   ]
  },
  {
   "cell_type": "code",
   "execution_count": 84,
   "metadata": {},
   "outputs": [],
   "source": [
    "def format_icd(filename: str):\n",
    "    \n",
    "    df = pd.read_csv(\"2018_I10gem.txt\", \n",
    "                     sep=\"[\\s]{1,}\",\n",
    "                     names=[\"source\", \"target\", \"flags\"],\n",
    "                     encoding=\"latin-1\")\n",
    "    \n",
    "    save_name = update_file_name(filename)\n",
    "    df.to_csv(save_name)\n",
    "    \n",
    "    \n",
    "def update_file_name(filename: str):\n",
    "    \n",
    "    return f\"{filename.split('.')[0]}.csv\"\n",
    "    \n",
    "    \n",
    "\n",
    "def format_desc(filename: str, codetype: str, separater: str = \",\"):\n",
    "    \n",
    "    df = pd.read_csv(filename,names=[codetype], sep = separater, encoding=\"latin-1\")\n",
    "    \n",
    "    df[[codetype, f\"{codetype}_desc\"]] = df[codetype].str.split(\" \", 1, expand=True)\n",
    "    \n",
    "    save_name = update_file_name(filename)\n",
    "    df.to_csv(save_name)\n"
   ]
  },
  {
   "cell_type": "code",
   "execution_count": 85,
   "metadata": {},
   "outputs": [
    {
     "name": "stderr",
     "output_type": "stream",
     "text": [
      "/Users/patricklong/anaconda3/lib/python3.7/site-packages/ipykernel_launcher.py:6: ParserWarning: Falling back to the 'python' engine because the 'c' engine does not support regex separators (separators > 1 char and different from '\\s+' are interpreted as regex); you can avoid this warning by specifying engine='python'.\n",
      "  \n",
      "/Users/patricklong/anaconda3/lib/python3.7/site-packages/ipykernel_launcher.py:20: ParserWarning: Falling back to the 'python' engine because the 'c' engine does not support regex separators (separators > 1 char and different from '\\s+' are interpreted as regex); you can avoid this warning by specifying engine='python'.\n"
     ]
    }
   ],
   "source": [
    "format_icd(\"2018_I10gem.txt\")\n",
    "format_icd(\"2018_I9gem.txt\")\n",
    "\n",
    "format_desc(\"CMS32_DESC_LONG_DX.txt\", \"icd9\", separater = \",\")\n",
    "format_desc(\"icd10cm_codes_2018.txt\", \"icd10\", separater = \"//s\")"
   ]
  },
  {
   "cell_type": "code",
   "execution_count": 213,
   "metadata": {},
   "outputs": [],
   "source": [
    "ten_gems = pd.read_csv(\"2018_I10gem.csv\")"
   ]
  },
  {
   "cell_type": "code",
   "execution_count": 215,
   "metadata": {},
   "outputs": [
    {
     "data": {
      "text/html": [
       "<div>\n",
       "<style scoped>\n",
       "    .dataframe tbody tr th:only-of-type {\n",
       "        vertical-align: middle;\n",
       "    }\n",
       "\n",
       "    .dataframe tbody tr th {\n",
       "        vertical-align: top;\n",
       "    }\n",
       "\n",
       "    .dataframe thead th {\n",
       "        text-align: right;\n",
       "    }\n",
       "</style>\n",
       "<table border=\"1\" class=\"dataframe\">\n",
       "  <thead>\n",
       "    <tr style=\"text-align: right;\">\n",
       "      <th></th>\n",
       "      <th>Unnamed: 0</th>\n",
       "      <th>source</th>\n",
       "      <th>target</th>\n",
       "      <th>flags</th>\n",
       "    </tr>\n",
       "  </thead>\n",
       "  <tbody>\n",
       "    <tr>\n",
       "      <th>0</th>\n",
       "      <td>0</td>\n",
       "      <td>A000</td>\n",
       "      <td>0010</td>\n",
       "      <td>0</td>\n",
       "    </tr>\n",
       "    <tr>\n",
       "      <th>1</th>\n",
       "      <td>1</td>\n",
       "      <td>A001</td>\n",
       "      <td>0011</td>\n",
       "      <td>0</td>\n",
       "    </tr>\n",
       "    <tr>\n",
       "      <th>2</th>\n",
       "      <td>2</td>\n",
       "      <td>A009</td>\n",
       "      <td>0019</td>\n",
       "      <td>0</td>\n",
       "    </tr>\n",
       "    <tr>\n",
       "      <th>3</th>\n",
       "      <td>3</td>\n",
       "      <td>A0100</td>\n",
       "      <td>0020</td>\n",
       "      <td>10000</td>\n",
       "    </tr>\n",
       "    <tr>\n",
       "      <th>4</th>\n",
       "      <td>4</td>\n",
       "      <td>A0101</td>\n",
       "      <td>0020</td>\n",
       "      <td>10000</td>\n",
       "    </tr>\n",
       "  </tbody>\n",
       "</table>\n",
       "</div>"
      ],
      "text/plain": [
       "   Unnamed: 0 source target  flags\n",
       "0           0   A000   0010      0\n",
       "1           1   A001   0011      0\n",
       "2           2   A009   0019      0\n",
       "3           3  A0100   0020  10000\n",
       "4           4  A0101   0020  10000"
      ]
     },
     "execution_count": 215,
     "metadata": {},
     "output_type": "execute_result"
    }
   ],
   "source": [
    "ten_gems.head()"
   ]
  },
  {
   "cell_type": "code",
   "execution_count": 216,
   "metadata": {},
   "outputs": [],
   "source": [
    "nine = pd.read_csv(\"icd9_gems_lookup.csv\")"
   ]
  },
  {
   "cell_type": "code",
   "execution_count": 217,
   "metadata": {},
   "outputs": [],
   "source": [
    "ten = pd.read_csv(\"icd10_gems_lookup.csv\")"
   ]
  },
  {
   "cell_type": "code",
   "execution_count": 218,
   "metadata": {},
   "outputs": [
    {
     "data": {
      "text/html": [
       "<div>\n",
       "<style scoped>\n",
       "    .dataframe tbody tr th:only-of-type {\n",
       "        vertical-align: middle;\n",
       "    }\n",
       "\n",
       "    .dataframe tbody tr th {\n",
       "        vertical-align: top;\n",
       "    }\n",
       "\n",
       "    .dataframe thead th {\n",
       "        text-align: right;\n",
       "    }\n",
       "</style>\n",
       "<table border=\"1\" class=\"dataframe\">\n",
       "  <thead>\n",
       "    <tr style=\"text-align: right;\">\n",
       "      <th></th>\n",
       "      <th>source</th>\n",
       "      <th>target</th>\n",
       "      <th>flags</th>\n",
       "      <th>icd10</th>\n",
       "      <th>description</th>\n",
       "    </tr>\n",
       "  </thead>\n",
       "  <tbody>\n",
       "    <tr>\n",
       "      <th>0</th>\n",
       "      <td>0010</td>\n",
       "      <td>A000</td>\n",
       "      <td>0</td>\n",
       "      <td>A000</td>\n",
       "      <td>Cholera due to Vibrio cholerae 01, biovar cholerae</td>\n",
       "    </tr>\n",
       "    <tr>\n",
       "      <th>1</th>\n",
       "      <td>0011</td>\n",
       "      <td>A001</td>\n",
       "      <td>0</td>\n",
       "      <td>A001</td>\n",
       "      <td>Cholera due to Vibrio cholerae 01, biovar eltor</td>\n",
       "    </tr>\n",
       "    <tr>\n",
       "      <th>2</th>\n",
       "      <td>0019</td>\n",
       "      <td>A009</td>\n",
       "      <td>0</td>\n",
       "      <td>A009</td>\n",
       "      <td>Cholera, unspecified</td>\n",
       "    </tr>\n",
       "    <tr>\n",
       "      <th>3</th>\n",
       "      <td>0020</td>\n",
       "      <td>A0100</td>\n",
       "      <td>10000</td>\n",
       "      <td>A0100</td>\n",
       "      <td>Typhoid fever, unspecified</td>\n",
       "    </tr>\n",
       "    <tr>\n",
       "      <th>4</th>\n",
       "      <td>0021</td>\n",
       "      <td>A011</td>\n",
       "      <td>0</td>\n",
       "      <td>A011</td>\n",
       "      <td>Paratyphoid fever A</td>\n",
       "    </tr>\n",
       "  </tbody>\n",
       "</table>\n",
       "</div>"
      ],
      "text/plain": [
       "  source target  flags  icd10  \\\n",
       "0   0010   A000      0   A000   \n",
       "1   0011   A001      0   A001   \n",
       "2   0019   A009      0   A009   \n",
       "3   0020  A0100  10000  A0100   \n",
       "4   0021   A011      0   A011   \n",
       "\n",
       "                                             description  \n",
       "0     Cholera due to Vibrio cholerae 01, biovar cholerae  \n",
       "1        Cholera due to Vibrio cholerae 01, biovar eltor  \n",
       "2                                   Cholera, unspecified  \n",
       "3                             Typhoid fever, unspecified  \n",
       "4                                    Paratyphoid fever A  "
      ]
     },
     "execution_count": 218,
     "metadata": {},
     "output_type": "execute_result"
    }
   ],
   "source": [
    "nine.head()"
   ]
  },
  {
   "cell_type": "code",
   "execution_count": 244,
   "metadata": {},
   "outputs": [
    {
     "data": {
      "text/html": [
       "<div>\n",
       "<style scoped>\n",
       "    .dataframe tbody tr th:only-of-type {\n",
       "        vertical-align: middle;\n",
       "    }\n",
       "\n",
       "    .dataframe tbody tr th {\n",
       "        vertical-align: top;\n",
       "    }\n",
       "\n",
       "    .dataframe thead th {\n",
       "        text-align: right;\n",
       "    }\n",
       "</style>\n",
       "<table border=\"1\" class=\"dataframe\">\n",
       "  <thead>\n",
       "    <tr style=\"text-align: right;\">\n",
       "      <th></th>\n",
       "      <th>source</th>\n",
       "      <th>target</th>\n",
       "      <th>flags</th>\n",
       "      <th>icd9</th>\n",
       "      <th>description</th>\n",
       "    </tr>\n",
       "  </thead>\n",
       "  <tbody>\n",
       "    <tr>\n",
       "      <th>0</th>\n",
       "      <td>A000</td>\n",
       "      <td>0010</td>\n",
       "      <td>0</td>\n",
       "      <td>0010</td>\n",
       "      <td>Cholera due to vibrio cholerae</td>\n",
       "    </tr>\n",
       "    <tr>\n",
       "      <th>1</th>\n",
       "      <td>A001</td>\n",
       "      <td>0011</td>\n",
       "      <td>0</td>\n",
       "      <td>0011</td>\n",
       "      <td>Cholera due to vibrio cholerae el tor</td>\n",
       "    </tr>\n",
       "    <tr>\n",
       "      <th>2</th>\n",
       "      <td>A009</td>\n",
       "      <td>0019</td>\n",
       "      <td>0</td>\n",
       "      <td>0019</td>\n",
       "      <td>Cholera</td>\n",
       "    </tr>\n",
       "    <tr>\n",
       "      <th>3</th>\n",
       "      <td>A0100</td>\n",
       "      <td>0020</td>\n",
       "      <td>10000</td>\n",
       "      <td>0020</td>\n",
       "      <td>Typhoid fever</td>\n",
       "    </tr>\n",
       "    <tr>\n",
       "      <th>4</th>\n",
       "      <td>A0101</td>\n",
       "      <td>0020</td>\n",
       "      <td>10000</td>\n",
       "      <td>0020</td>\n",
       "      <td>Typhoid fever</td>\n",
       "    </tr>\n",
       "    <tr>\n",
       "      <th>5</th>\n",
       "      <td>A0102</td>\n",
       "      <td>0020</td>\n",
       "      <td>10000</td>\n",
       "      <td>0020</td>\n",
       "      <td>Typhoid fever</td>\n",
       "    </tr>\n",
       "    <tr>\n",
       "      <th>6</th>\n",
       "      <td>A0103</td>\n",
       "      <td>0020</td>\n",
       "      <td>10000</td>\n",
       "      <td>0020</td>\n",
       "      <td>Typhoid fever</td>\n",
       "    </tr>\n",
       "    <tr>\n",
       "      <th>7</th>\n",
       "      <td>A0104</td>\n",
       "      <td>0020</td>\n",
       "      <td>10000</td>\n",
       "      <td>0020</td>\n",
       "      <td>Typhoid fever</td>\n",
       "    </tr>\n",
       "    <tr>\n",
       "      <th>8</th>\n",
       "      <td>A0105</td>\n",
       "      <td>0020</td>\n",
       "      <td>10000</td>\n",
       "      <td>0020</td>\n",
       "      <td>Typhoid fever</td>\n",
       "    </tr>\n",
       "    <tr>\n",
       "      <th>9</th>\n",
       "      <td>A0109</td>\n",
       "      <td>0020</td>\n",
       "      <td>10000</td>\n",
       "      <td>0020</td>\n",
       "      <td>Typhoid fever</td>\n",
       "    </tr>\n",
       "  </tbody>\n",
       "</table>\n",
       "</div>"
      ],
      "text/plain": [
       "  source target  flags  icd9                             description\n",
       "0   A000   0010      0  0010          Cholera due to vibrio cholerae\n",
       "1   A001   0011      0  0011   Cholera due to vibrio cholerae el tor\n",
       "2   A009   0019      0  0019                                 Cholera\n",
       "3  A0100   0020  10000  0020                           Typhoid fever\n",
       "4  A0101   0020  10000  0020                           Typhoid fever\n",
       "5  A0102   0020  10000  0020                           Typhoid fever\n",
       "6  A0103   0020  10000  0020                           Typhoid fever\n",
       "7  A0104   0020  10000  0020                           Typhoid fever\n",
       "8  A0105   0020  10000  0020                           Typhoid fever\n",
       "9  A0109   0020  10000  0020                           Typhoid fever"
      ]
     },
     "execution_count": 244,
     "metadata": {},
     "output_type": "execute_result"
    }
   ],
   "source": [
    "ten.head(10)"
   ]
  },
  {
   "cell_type": "code",
   "execution_count": 237,
   "metadata": {},
   "outputs": [],
   "source": [
    "pd.set_option('display.max_colwidth', 255)\n",
    "\n",
    "\n",
    "def icd9_to_icd10(icd_code: str):\n",
    "\n",
    "    lookup_table = pd.read_csv(\"icd9_gems_lookup.csv\")\n",
    "\n",
    "    return lookup_table[lookup_table[\"source\"] == icd_code].loc[:,[\"source\", \"icd10\", \"description\"]]\n",
    "\n",
    "\n",
    "def icd10_to_icd9(icd_code: str):\n",
    "    \n",
    "    lookup_table = pd.read_csv(\"icd10_gems_lookup.csv\")\n",
    "    \n",
    "    return lookup_table[lookup_table[\"source\"] == icd_code].loc[:,[\"source\", \"icd9\", \"description\"]]\n",
    "    \n"
   ]
  },
  {
   "cell_type": "code",
   "execution_count": 247,
   "metadata": {},
   "outputs": [],
   "source": [
    "lookup_table = pd.read_csv(\"icd9_gems_lookup.csv\")"
   ]
  },
  {
   "cell_type": "code",
   "execution_count": 263,
   "metadata": {},
   "outputs": [],
   "source": [
    "lookup_table[\"description\"] = lookup_table[\"description\"].str.upper()"
   ]
  },
  {
   "cell_type": "code",
   "execution_count": 267,
   "metadata": {},
   "outputs": [
    {
     "data": {
      "text/html": [
       "<div>\n",
       "<style scoped>\n",
       "    .dataframe tbody tr th:only-of-type {\n",
       "        vertical-align: middle;\n",
       "    }\n",
       "\n",
       "    .dataframe tbody tr th {\n",
       "        vertical-align: top;\n",
       "    }\n",
       "\n",
       "    .dataframe thead th {\n",
       "        text-align: right;\n",
       "    }\n",
       "</style>\n",
       "<table border=\"1\" class=\"dataframe\">\n",
       "  <thead>\n",
       "    <tr style=\"text-align: right;\">\n",
       "      <th></th>\n",
       "      <th>source</th>\n",
       "      <th>target</th>\n",
       "      <th>flags</th>\n",
       "      <th>icd10</th>\n",
       "      <th>description</th>\n",
       "    </tr>\n",
       "  </thead>\n",
       "  <tbody>\n",
       "    <tr>\n",
       "      <th>0</th>\n",
       "      <td>0010</td>\n",
       "      <td>A000</td>\n",
       "      <td>0</td>\n",
       "      <td>A000</td>\n",
       "      <td>CHOLERA DUE TO VIBRIO CHOLERAE 01, BIOVAR CHOLERAE</td>\n",
       "    </tr>\n",
       "    <tr>\n",
       "      <th>1</th>\n",
       "      <td>0011</td>\n",
       "      <td>A001</td>\n",
       "      <td>0</td>\n",
       "      <td>A001</td>\n",
       "      <td>CHOLERA DUE TO VIBRIO CHOLERAE 01, BIOVAR ELTOR</td>\n",
       "    </tr>\n",
       "    <tr>\n",
       "      <th>29</th>\n",
       "      <td>0054</td>\n",
       "      <td>A053</td>\n",
       "      <td>0</td>\n",
       "      <td>A053</td>\n",
       "      <td>FOODBORNE VIBRIO PARAHAEMOLYTICUS INTOXICATION</td>\n",
       "    </tr>\n",
       "    <tr>\n",
       "      <th>30</th>\n",
       "      <td>00581</td>\n",
       "      <td>A055</td>\n",
       "      <td>0</td>\n",
       "      <td>A055</td>\n",
       "      <td>FOODBORNE VIBRIO VULNIFICUS INTOXICATION</td>\n",
       "    </tr>\n",
       "    <tr>\n",
       "      <th>10481</th>\n",
       "      <td>7084</td>\n",
       "      <td>L504</td>\n",
       "      <td>0</td>\n",
       "      <td>L504</td>\n",
       "      <td>VIBRATORY URTICARIA</td>\n",
       "    </tr>\n",
       "  </tbody>\n",
       "</table>\n",
       "</div>"
      ],
      "text/plain": [
       "      source target  flags icd10  \\\n",
       "0       0010   A000      0  A000   \n",
       "1       0011   A001      0  A001   \n",
       "29      0054   A053      0  A053   \n",
       "30     00581   A055      0  A055   \n",
       "10481   7084   L504      0  L504   \n",
       "\n",
       "                                                 description  \n",
       "0         CHOLERA DUE TO VIBRIO CHOLERAE 01, BIOVAR CHOLERAE  \n",
       "1            CHOLERA DUE TO VIBRIO CHOLERAE 01, BIOVAR ELTOR  \n",
       "29            FOODBORNE VIBRIO PARAHAEMOLYTICUS INTOXICATION  \n",
       "30                  FOODBORNE VIBRIO VULNIFICUS INTOXICATION  \n",
       "10481                                    VIBRATORY URTICARIA  "
      ]
     },
     "execution_count": 267,
     "metadata": {},
     "output_type": "execute_result"
    }
   ],
   "source": [
    "lookup_table[lookup_table[\"description\"].str.contains(\"VIB\")]"
   ]
  },
  {
   "cell_type": "code",
   "execution_count": 286,
   "metadata": {},
   "outputs": [],
   "source": [
    "def search_icd10(search_term: str):\n",
    "\n",
    "    lookup_table = pd.read_csv(\"icd9_gems_lookup.csv\")\n",
    "    \n",
    "    lookup_table[\"description\"] = lookup_table[\"description\"].str.upper()    \n",
    "\n",
    "    return lookup_table[lookup_table[\"description\"].str.contains(search_term.upper())].loc[:,[\"icd10\", \"description\"]]\n",
    "\n",
    "\n",
    "\n",
    "def search_icd9(search_term: str):\n",
    "\n",
    "    lookup_table = pd.read_csv(\"icd10_gems_lookup.csv\")\n",
    "    \n",
    "    lookup_table[\"description\"] = lookup_table[\"description\"].str.upper()    \n",
    "\n",
    "    return lookup_table[lookup_table[\"description\"].str.contains(search_term.upper())].loc[:,[\"icd9\", \"description\"]]\n"
   ]
  },
  {
   "cell_type": "code",
   "execution_count": 288,
   "metadata": {},
   "outputs": [
    {
     "data": {
      "text/html": [
       "<div>\n",
       "<style scoped>\n",
       "    .dataframe tbody tr th:only-of-type {\n",
       "        vertical-align: middle;\n",
       "    }\n",
       "\n",
       "    .dataframe tbody tr th {\n",
       "        vertical-align: top;\n",
       "    }\n",
       "\n",
       "    .dataframe thead th {\n",
       "        text-align: right;\n",
       "    }\n",
       "</style>\n",
       "<table border=\"1\" class=\"dataframe\">\n",
       "  <thead>\n",
       "    <tr style=\"text-align: right;\">\n",
       "      <th></th>\n",
       "      <th>icd10</th>\n",
       "      <th>description</th>\n",
       "    </tr>\n",
       "  </thead>\n",
       "  <tbody>\n",
       "    <tr>\n",
       "      <th>0</th>\n",
       "      <td>A000</td>\n",
       "      <td>CHOLERA DUE TO VIBRIO CHOLERAE 01, BIOVAR CHOLERAE</td>\n",
       "    </tr>\n",
       "    <tr>\n",
       "      <th>1</th>\n",
       "      <td>A001</td>\n",
       "      <td>CHOLERA DUE TO VIBRIO CHOLERAE 01, BIOVAR ELTOR</td>\n",
       "    </tr>\n",
       "    <tr>\n",
       "      <th>29</th>\n",
       "      <td>A053</td>\n",
       "      <td>FOODBORNE VIBRIO PARAHAEMOLYTICUS INTOXICATION</td>\n",
       "    </tr>\n",
       "    <tr>\n",
       "      <th>30</th>\n",
       "      <td>A055</td>\n",
       "      <td>FOODBORNE VIBRIO VULNIFICUS INTOXICATION</td>\n",
       "    </tr>\n",
       "    <tr>\n",
       "      <th>10481</th>\n",
       "      <td>L504</td>\n",
       "      <td>VIBRATORY URTICARIA</td>\n",
       "    </tr>\n",
       "  </tbody>\n",
       "</table>\n",
       "</div>"
      ],
      "text/plain": [
       "      icd10                                            description\n",
       "0      A000     CHOLERA DUE TO VIBRIO CHOLERAE 01, BIOVAR CHOLERAE\n",
       "1      A001        CHOLERA DUE TO VIBRIO CHOLERAE 01, BIOVAR ELTOR\n",
       "29     A053         FOODBORNE VIBRIO PARAHAEMOLYTICUS INTOXICATION\n",
       "30     A055               FOODBORNE VIBRIO VULNIFICUS INTOXICATION\n",
       "10481  L504                                    VIBRATORY URTICARIA"
      ]
     },
     "execution_count": 288,
     "metadata": {},
     "output_type": "execute_result"
    }
   ],
   "source": [
    "search_icd10(\"vib\")"
   ]
  },
  {
   "cell_type": "code",
   "execution_count": 246,
   "metadata": {},
   "outputs": [
    {
     "name": "stdout",
     "output_type": "stream",
     "text": [
      "      source   icd9    description\n",
      "35983  R6521  99592  Severe sepsis\n",
      "35984  R6521  78552   Septic shock\n"
     ]
    }
   ],
   "source": [
    "print(icd10_to_icd9(\"R6521\"))"
   ]
  },
  {
   "cell_type": "code",
   "execution_count": null,
   "metadata": {},
   "outputs": [],
   "source": []
  },
  {
   "cell_type": "code",
   "execution_count": null,
   "metadata": {},
   "outputs": [],
   "source": []
  },
  {
   "cell_type": "code",
   "execution_count": null,
   "metadata": {},
   "outputs": [],
   "source": []
  },
  {
   "cell_type": "code",
   "execution_count": 212,
   "metadata": {},
   "outputs": [],
   "source": [
    "def join_icd_desc(df_icd,df_desc, key: str):\n",
    "    df = pd.merge(df_icd, df_desc,\n",
    "                  left_on = \"target\",\n",
    "                 right_on = key)\n",
    "    return df\n",
    "\n",
    "\n",
    "def save_icd_desc_tables(df, df_name: str):\n",
    "    df.to_csv(df_name, index = False)\n",
    "\n",
    "    \n",
    "def add_icd_desc(df_icd9, df_icd9_desc, df_icd10, df_icd10_desc):\n",
    "    \n",
    "    df9_lookup = join_icd_desc(df_icd9,\n",
    "                          df_icd10_desc,\n",
    "                          key = \"icd10\")\n",
    "    \n",
    "    \n",
    "    df10_lookup = join_icd_desc(df_icd10,\n",
    "                           df_icd9_desc,\n",
    "                           key = \"icd9\")\n"
   ]
  },
  {
   "cell_type": "code",
   "execution_count": null,
   "metadata": {},
   "outputs": [],
   "source": []
  }
 ],
 "metadata": {
  "kernelspec": {
   "display_name": "Python 3",
   "language": "python",
   "name": "python3"
  },
  "language_info": {
   "codemirror_mode": {
    "name": "ipython",
    "version": 3
   },
   "file_extension": ".py",
   "mimetype": "text/x-python",
   "name": "python",
   "nbconvert_exporter": "python",
   "pygments_lexer": "ipython3",
   "version": "3.7.3"
  }
 },
 "nbformat": 4,
 "nbformat_minor": 2
}

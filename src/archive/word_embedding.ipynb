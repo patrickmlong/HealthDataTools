{
 "cells": [
  {
   "cell_type": "code",
   "execution_count": 442,
   "metadata": {},
   "outputs": [
    {
     "name": "stderr",
     "output_type": "stream",
     "text": [
      "[nltk_data] Downloading package stopwords to\n",
      "[nltk_data]     /Users/patricklong/nltk_data...\n",
      "[nltk_data]   Package stopwords is already up-to-date!\n"
     ]
    }
   ],
   "source": [
    "import gensim\n",
    "\n",
    "import pandas as pd\n",
    "import os\n",
    "import re\n",
    "import tempfile\n",
    "\n",
    "from gensim.test.utils import datapath\n",
    "from gensim import utils\n",
    "import gensim.models\n",
    "\n",
    "import nltk\n",
    "nltk.download('stopwords')\n",
    "from nltk.corpus import stopwords \n",
    "  \n",
    "from sklearn.manifold import TSNE\n",
    "import matplotlib.pyplot as plt\n",
    "import seaborn as sns\n",
    "\n",
    "from random import seed\n",
    "seed(42)\n"
   ]
  },
  {
   "cell_type": "code",
   "execution_count": 437,
   "metadata": {},
   "outputs": [],
   "source": [
    "class ICDw2vec(object):\n",
    "    \"\"\"\n",
    "    Instantiate icd2vec iterator for clinical terms word embedding.\n",
    "    \"\"\"\n",
    "        \n",
    "    def __iter__(self):\n",
    "        datapath = \"/Users/patricklong/Desktop/github_repos/pyicd/data/raw_data/gems/\"\n",
    "        icd10_desc = pd.read_csv(os.path.join(datapath, \"icd9_gems_lookup.csv\")).description\n",
    "        icd9_desc = pd.read_csv(os.path.join(datapath, \"icd10_gems_lookup.csv\")).description\n",
    "        \n",
    "        icd_desc = pd.concat([icd10_desc, icd9_desc], axis=0).drop_duplicates()\n",
    "        icd_desc = [c.strip().lower().replace(r\"[|]/|(|)\", \"\") for c in icd_desc]\n",
    "        icd_desc = [re.sub('[^A-Za-z ]+', '', c) for c in icd_desc]\n",
    "        \n",
    "        stop_words = set(stopwords.words('english'))\n",
    "\n",
    "        for desc in icd_desc:\n",
    "            desc = \" \".join([c for c in desc.split(\" \") if c not in stop_words])\n",
    "            yield utils.simple_preprocess(desc)"
   ]
  },
  {
   "cell_type": "code",
   "execution_count": 598,
   "metadata": {},
   "outputs": [],
   "source": [
    "# Train model\n",
    "model = gensim.models.Word2Vec(sentences = ICDw2vec(),\n",
    "                                min_count = 10,\n",
    "                                window = 10,\n",
    "                                size = 20,\n",
    "                              )\n"
   ]
  },
  {
   "cell_type": "code",
   "execution_count": 492,
   "metadata": {},
   "outputs": [
    {
     "name": "stdout",
     "output_type": "stream",
     "text": [
      "[('jaundice', 0.997273325920105), ('hypersomnia', 0.995782732963562), ('cystostomy', 0.9957436323165894), ('fever', 0.9951986074447632), ('ileus', 0.9946932792663574), ('illness', 0.994373083114624), ('vaccination', 0.994172215461731), ('hemorrhagic', 0.9940629601478577), ('neonatal', 0.9940153956413269), ('pneumonitis', 0.9939853549003601)]\n"
     ]
    }
   ],
   "source": [
    "# Check icd10 vocab embeddings\n",
    "print(model.wv.most_similar(positive = ['sepsis'], topn = 10))\n"
   ]
  },
  {
   "cell_type": "code",
   "execution_count": 593,
   "metadata": {},
   "outputs": [],
   "source": [
    "def find_similar_words(model: \"gensim.models.Word2Vec\",\n",
    "                       search_term: str,\n",
    "                       top_matches: int = 10):\n",
    "    \n",
    "        similar_terms = \\\n",
    "        {word: [item[0] for item in model.wv.most_similar([word], topn = top_matches)]\n",
    "         for word in [search_term]}\n",
    "        \n",
    "        return similar_terms[search_term] + [search_term]\n",
    "    "
   ]
  },
  {
   "cell_type": "code",
   "execution_count": 594,
   "metadata": {},
   "outputs": [],
   "source": [
    "def run_tsne(wvs: list):\n",
    "    \n",
    "    tsne = TSNE(n_components=2, random_state=0, n_iter=10000, perplexity=2)\n",
    "    \n",
    "    np.set_printoptions(suppress=True)\n",
    "    \n",
    "    projection = tsne.fit_transform(wvs)\n",
    "    \n",
    "    return projection\n"
   ]
  },
  {
   "cell_type": "code",
   "execution_count": 611,
   "metadata": {},
   "outputs": [],
   "source": [
    "plt.annotate?"
   ]
  },
  {
   "cell_type": "code",
   "execution_count": 608,
   "metadata": {},
   "outputs": [],
   "source": [
    "def plot_tsne(projection, labels: list):\n",
    "    \n",
    "    plt.figure(figsize=(14, 8))\n",
    "    \n",
    "    sns.set_style('white')\n",
    "    \n",
    "    plt.scatter(projection[:, 0], projection[:, 1], c='blue')\n",
    "    \n",
    "    for label, x_cor, y_cor in zip(labels, projection[:, 0], projection[:, 1]):\n",
    "        \n",
    "        plt.annotate(label,\n",
    "                     xy=(x_cor+1, y_cor+1),\n",
    "                     xytext=(0, 0), \n",
    "                     textcoords='offset points')\n"
   ]
  },
  {
   "cell_type": "code",
   "execution_count": 609,
   "metadata": {},
   "outputs": [],
   "source": [
    "def viz_icd2vec(model, search_term, top_matches):\n",
    "    \n",
    "    similar_words = find_similar_words(model, search_term, top_matches)\n",
    "    \n",
    "    wvs = model.wv[similar_words]\n",
    "    \n",
    "    projection = run_tsne(wvs)\n",
    "    \n",
    "    plot_tsne(projection, similar_words)\n",
    "    "
   ]
  },
  {
   "cell_type": "code",
   "execution_count": 610,
   "metadata": {},
   "outputs": [
    {
     "data": {
      "image/png": "[encoded data removed]",
      "text/plain": [
       "<Figure size 1008x576 with 1 Axes>"
      ]
     },
     "metadata": {},
     "output_type": "display_data"
    }
   ],
   "source": [
    "viz_icd2vec(model, \"sepsis\", top_matches = 10)"
   ]
  },
  {
   "cell_type": "code",
   "execution_count": null,
   "metadata": {},
   "outputs": [],
   "source": []
  },
  {
   "cell_type": "code",
   "execution_count": null,
   "metadata": {},
   "outputs": [],
   "source": []
  }
 ],
 "metadata": {
  "kernelspec": {
   "display_name": "Python 3",
   "language": "python",
   "name": "python3"
  },
  "language_info": {
   "codemirror_mode": {
    "name": "ipython",
    "version": 3
   },
   "file_extension": ".py",
   "mimetype": "text/x-python",
   "name": "python",
   "nbconvert_exporter": "python",
   "pygments_lexer": "ipython3",
   "version": "3.7.3"
  }
 },
 "nbformat": 4,
 "nbformat_minor": 2
}

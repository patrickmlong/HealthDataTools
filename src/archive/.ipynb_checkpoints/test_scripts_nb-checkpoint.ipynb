{
 "cells": [
  {
   "cell_type": "code",
   "execution_count": 5,
   "metadata": {},
   "outputs": [],
   "source": [
    "import pandas as pd\n",
    "import os\n",
    "\n",
    "os.chdir(\"../../data/raw_data/gems/\")"
   ]
  },
  {
   "cell_type": "code",
   "execution_count": 6,
   "metadata": {},
   "outputs": [
    {
     "name": "stdout",
     "output_type": "stream",
     "text": [
      "2018_I10gem.csv                 fun.py\r\n",
      "2018_I10gem.txt                 icd10OrderFiles.pdf\r\n",
      "2018_I9gem.csv                  icd10_descriptions.zip\r\n",
      "2018_I9gem.txt                  icd10_gems.zip\r\n",
      "CMS32_DESC_LONG_DX.csv          icd10_gems_lookup.csv\r\n",
      "CMS32_DESC_LONG_DX.txt          icd10cmCodesFile.pdf\r\n",
      "CMS32_DESC_LONG_SG.txt          icd10cm_codes_2018.csv\r\n",
      "CMS32_DESC_LONG_SHORT_DX.xlsx   icd10cm_codes_2018.txt\r\n",
      "CMS32_DESC_LONG_SHORT_SG.xlsx   icd10cm_codes_addenda_2018.txt\r\n",
      "CMS32_DESC_SHORT_DX.txt         icd10cm_order_2018.txt\r\n",
      "CMS32_DESC_SHORT_SG.txt         icd10cm_order_addenda_2018.txt\r\n",
      "Dxgem_guide_2018.pdf            icd9_descriptions.zip\r\n",
      "GemsTechDoc_2018.pdf            icd9_gems_lookup.csv\r\n",
      "\u001b[34m__pycache__\u001b[m\u001b[m/                    sql_test.csv\r\n"
     ]
    }
   ],
   "source": [
    "ls"
   ]
  },
  {
   "cell_type": "code",
   "execution_count": 7,
   "metadata": {},
   "outputs": [],
   "source": [
    "filename = \"2018_I10gem.txt\""
   ]
  },
  {
   "cell_type": "code",
   "execution_count": 8,
   "metadata": {},
   "outputs": [],
   "source": [
    "filename = f\"{filename.split('.')[0]}.csv\""
   ]
  },
  {
   "cell_type": "code",
   "execution_count": 9,
   "metadata": {},
   "outputs": [
    {
     "data": {
      "text/plain": [
       "'2018_I10gem.csv'"
      ]
     },
     "execution_count": 9,
     "metadata": {},
     "output_type": "execute_result"
    }
   ],
   "source": [
    "filename"
   ]
  },
  {
   "cell_type": "code",
   "execution_count": 10,
   "metadata": {},
   "outputs": [],
   "source": [
    "def format_icd(filename: str):\n",
    "    \n",
    "    df = pd.read_csv(\"2018_I10gem.txt\", \n",
    "                     sep=\"[\\s]{1,}\",\n",
    "                     names=[\"source\", \"target\", \"flags\"],\n",
    "                     encoding=\"latin-1\")\n",
    "    \n",
    "    save_name = update_file_name(filename)\n",
    "    df.to_csv(save_name)\n",
    "    \n",
    "    \n",
    "def update_file_name(filename: str):\n",
    "    \n",
    "    return f\"{filename.split('.')[0]}.csv\"\n",
    "    \n",
    "    \n",
    "\n",
    "def format_desc(filename: str, codetype: str, separater: str = \",\"):\n",
    "    \n",
    "    df = pd.read_csv(filename,names=[codetype], sep = separater, encoding=\"latin-1\")\n",
    "    \n",
    "    df[[codetype, f\"{codetype}_desc\"]] = df[codetype].str.split(\" \", 1, expand=True)\n",
    "    \n",
    "    save_name = update_file_name(filename)\n",
    "    df.to_csv(save_name)\n"
   ]
  },
  {
   "cell_type": "code",
   "execution_count": 11,
   "metadata": {},
   "outputs": [
    {
     "name": "stderr",
     "output_type": "stream",
     "text": [
      "/Users/patricklong/anaconda3/lib/python3.7/site-packages/ipykernel_launcher.py:6: ParserWarning: Falling back to the 'python' engine because the 'c' engine does not support regex separators (separators > 1 char and different from '\\s+' are interpreted as regex); you can avoid this warning by specifying engine='python'.\n",
      "  \n",
      "/Users/patricklong/anaconda3/lib/python3.7/site-packages/ipykernel_launcher.py:20: ParserWarning: Falling back to the 'python' engine because the 'c' engine does not support regex separators (separators > 1 char and different from '\\s+' are interpreted as regex); you can avoid this warning by specifying engine='python'.\n"
     ]
    }
   ],
   "source": [
    "format_icd(\"2018_I10gem.txt\")\n",
    "format_icd(\"2018_I9gem.txt\")\n",
    "\n",
    "format_desc(\"CMS32_DESC_LONG_DX.txt\", \"icd9\", separater = \",\")\n",
    "format_desc(\"icd10cm_codes_2018.txt\", \"icd10\", separater = \"//s\")"
   ]
  },
  {
   "cell_type": "code",
   "execution_count": null,
   "metadata": {},
   "outputs": [],
   "source": []
  },
  {
   "cell_type": "code",
   "execution_count": 12,
   "metadata": {},
   "outputs": [
    {
     "ename": "NameError",
     "evalue": "name 'read_icd' is not defined",
     "output_type": "error",
     "traceback": [
      "\u001b[0;31m---------------------------------------------------------------------------\u001b[0m",
      "\u001b[0;31mNameError\u001b[0m                                 Traceback (most recent call last)",
      "\u001b[0;32m<ipython-input-12-34fb682d1b45>\u001b[0m in \u001b[0;36m<module>\u001b[0;34m\u001b[0m\n\u001b[0;32m----> 1\u001b[0;31m \u001b[0mread_icd\u001b[0m\u001b[0;34m(\u001b[0m\u001b[0;34m\"2018_I10gem.txt\"\u001b[0m\u001b[0;34m)\u001b[0m\u001b[0;34m.\u001b[0m\u001b[0mto_csv\u001b[0m\u001b[0;34m(\u001b[0m\u001b[0;34m\"2018_I10gem.csv\"\u001b[0m\u001b[0;34m)\u001b[0m\u001b[0;34m\u001b[0m\u001b[0;34m\u001b[0m\u001b[0m\n\u001b[0m\u001b[1;32m      2\u001b[0m \u001b[0mdf_icd10_9\u001b[0m \u001b[0;34m=\u001b[0m \u001b[0mread_icd\u001b[0m\u001b[0;34m(\u001b[0m\u001b[0;34m\"2018_I9gem.txt\"\u001b[0m\u001b[0;34m)\u001b[0m\u001b[0;34m\u001b[0m\u001b[0;34m\u001b[0m\u001b[0m\n\u001b[1;32m      3\u001b[0m \u001b[0;34m\u001b[0m\u001b[0m\n\u001b[1;32m      4\u001b[0m \u001b[0micd9_desc\u001b[0m\u001b[0;34m=\u001b[0m \u001b[0mread_desc\u001b[0m\u001b[0;34m(\u001b[0m\u001b[0;34m\"CMS32_DESC_LONG_DX.txt\"\u001b[0m\u001b[0;34m,\u001b[0m \u001b[0;34m\"icd9\"\u001b[0m\u001b[0;34m,\u001b[0m \u001b[0mseparater\u001b[0m \u001b[0;34m=\u001b[0m \u001b[0;34m\",\"\u001b[0m\u001b[0;34m)\u001b[0m\u001b[0;34m\u001b[0m\u001b[0;34m\u001b[0m\u001b[0m\n\u001b[1;32m      5\u001b[0m \u001b[0micd10_desc\u001b[0m \u001b[0;34m=\u001b[0m \u001b[0mread_desc\u001b[0m\u001b[0;34m(\u001b[0m\u001b[0;34m\"icd10cm_codes_2018.txt\"\u001b[0m\u001b[0;34m,\u001b[0m \u001b[0;34m\"icd10\"\u001b[0m\u001b[0;34m,\u001b[0m \u001b[0mseparater\u001b[0m \u001b[0;34m=\u001b[0m \u001b[0;34m\"//s\"\u001b[0m\u001b[0;34m)\u001b[0m\u001b[0;34m\u001b[0m\u001b[0;34m\u001b[0m\u001b[0m\n",
      "\u001b[0;31mNameError\u001b[0m: name 'read_icd' is not defined"
     ]
    }
   ],
   "source": [
    "read_icd(\"2018_I10gem.txt\").to_csv(\"2018_I10gem.csv\")\n",
    "df_icd10_9 = read_icd(\"2018_I9gem.txt\")\n",
    "\n",
    "icd9_desc= read_desc(\"CMS32_DESC_LONG_DX.txt\", \"icd9\", separater = \",\")\n",
    "icd10_desc = read_desc(\"icd10cm_codes_2018.txt\", \"icd10\", separater = \"//s\")"
   ]
  },
  {
   "cell_type": "code",
   "execution_count": 13,
   "metadata": {},
   "outputs": [
    {
     "ename": "NameError",
     "evalue": "name 'read_icd' is not defined",
     "output_type": "error",
     "traceback": [
      "\u001b[0;31m---------------------------------------------------------------------------\u001b[0m",
      "\u001b[0;31mNameError\u001b[0m                                 Traceback (most recent call last)",
      "\u001b[0;32m<ipython-input-13-2fa53124024b>\u001b[0m in \u001b[0;36m<module>\u001b[0;34m\u001b[0m\n\u001b[0;32m----> 1\u001b[0;31m \u001b[0mdf_icd9_10\u001b[0m \u001b[0;34m=\u001b[0m \u001b[0mread_icd\u001b[0m\u001b[0;34m(\u001b[0m\u001b[0;34m\"2018_I10gem.txt\"\u001b[0m\u001b[0;34m)\u001b[0m\u001b[0;34m\u001b[0m\u001b[0;34m\u001b[0m\u001b[0m\n\u001b[0m\u001b[1;32m      2\u001b[0m \u001b[0mdf_icd10_9\u001b[0m \u001b[0;34m=\u001b[0m \u001b[0mread_icd\u001b[0m\u001b[0;34m(\u001b[0m\u001b[0;34m\"2018_I9gem.txt\"\u001b[0m\u001b[0;34m)\u001b[0m\u001b[0;34m\u001b[0m\u001b[0;34m\u001b[0m\u001b[0m\n\u001b[1;32m      3\u001b[0m \u001b[0;34m\u001b[0m\u001b[0m\n\u001b[1;32m      4\u001b[0m \u001b[0micd9_desc\u001b[0m\u001b[0;34m=\u001b[0m \u001b[0mread_desc\u001b[0m\u001b[0;34m(\u001b[0m\u001b[0;34m\"CMS32_DESC_LONG_DX.txt\"\u001b[0m\u001b[0;34m,\u001b[0m \u001b[0;34m\"icd9\"\u001b[0m\u001b[0;34m,\u001b[0m \u001b[0mseparater\u001b[0m \u001b[0;34m=\u001b[0m \u001b[0;34m\",\"\u001b[0m\u001b[0;34m)\u001b[0m\u001b[0;34m\u001b[0m\u001b[0;34m\u001b[0m\u001b[0m\n\u001b[1;32m      5\u001b[0m \u001b[0micd10_desc\u001b[0m \u001b[0;34m=\u001b[0m \u001b[0mread_desc\u001b[0m\u001b[0;34m(\u001b[0m\u001b[0;34m\"icd10cm_codes_2018.txt\"\u001b[0m\u001b[0;34m,\u001b[0m \u001b[0;34m\"icd10\"\u001b[0m\u001b[0;34m,\u001b[0m \u001b[0mseparater\u001b[0m \u001b[0;34m=\u001b[0m \u001b[0;34m\"//s\"\u001b[0m\u001b[0;34m)\u001b[0m\u001b[0;34m\u001b[0m\u001b[0;34m\u001b[0m\u001b[0m\n",
      "\u001b[0;31mNameError\u001b[0m: name 'read_icd' is not defined"
     ]
    }
   ],
   "source": [
    "df_icd9_10 = read_icd(\"2018_I10gem.txt\")\n",
    "df_icd10_9 = read_icd(\"2018_I9gem.txt\")\n",
    "\n",
    "icd9_desc= read_desc(\"CMS32_DESC_LONG_DX.txt\", \"icd9\", separater = \",\")\n",
    "icd10_desc = read_desc(\"icd10cm_codes_2018.txt\", \"icd10\", separater = \"//s\")"
   ]
  },
  {
   "cell_type": "code",
   "execution_count": 104,
   "metadata": {},
   "outputs": [
    {
     "name": "stdout",
     "output_type": "stream",
     "text": [
      "2018_I10gem.txt                 icd10OrderFiles.pdf\r\n",
      "2018_I9gem.txt                  icd10_descriptions.zip\r\n",
      "CMS32_DESC_LONG_DX.txt          icd10_gems.zip\r\n",
      "CMS32_DESC_LONG_SG.txt          icd10cmCodesFile.pdf\r\n",
      "CMS32_DESC_LONG_SHORT_DX.xlsx   icd10cm_codes_2018.txt\r\n",
      "CMS32_DESC_LONG_SHORT_SG.xlsx   icd10cm_codes_addenda_2018.txt\r\n",
      "CMS32_DESC_SHORT_DX.txt         icd10cm_order_2018.txt\r\n",
      "CMS32_DESC_SHORT_SG.txt         icd10cm_order_addenda_2018.txt\r\n",
      "Dxgem_guide_2018.pdf            icd9_descriptions.zip\r\n",
      "GemsTechDoc_2018.pdf\r\n"
     ]
    }
   ],
   "source": [
    "ls"
   ]
  },
  {
   "cell_type": "code",
   "execution_count": null,
   "metadata": {},
   "outputs": [],
   "source": []
  }
 ],
 "metadata": {
  "kernelspec": {
   "display_name": "Python 3",
   "language": "python",
   "name": "python3"
  },
  "language_info": {
   "codemirror_mode": {
    "name": "ipython",
    "version": 3
   },
   "file_extension": ".py",
   "mimetype": "text/x-python",
   "name": "python",
   "nbconvert_exporter": "python",
   "pygments_lexer": "ipython3",
   "version": "3.7.3"
  }
 },
 "nbformat": 4,
 "nbformat_minor": 2
}
